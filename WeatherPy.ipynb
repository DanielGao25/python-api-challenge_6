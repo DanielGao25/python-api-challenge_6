{
 "cells": [
  {
   "cell_type": "markdown",
   "metadata": {},
   "source": [
    "# WeatherPy\n",
    "----\n",
    "\n",
    "#### Note\n",
    "* Instructions have been included for each segment. You do not have to follow them exactly, but they are included to help you think through the steps."
   ]
  },
  {
   "cell_type": "code",
   "execution_count": 4,
   "metadata": {
    "collapsed": true,
    "scrolled": true
   },
   "outputs": [],
   "source": [
    "# Dependencies and Setup\n",
    "import matplotlib.pyplot as plt\n",
    "import pandas as pd\n",
    "import numpy as np\n",
    "import requests\n",
    "import time\n",
    "from scipy.stats import linregress\n",
    "\n",
    "# Import API key\n",
    "from api_keys import weather_api_key\n",
    "\n",
    "# Incorporated citipy to determine city based on latitude and longitude\n",
    "from citipy import citipy\n",
    "\n",
    "# Output File (CSV)\n",
    "output_data_file = \"output_data/cities.csv\"\n",
    "#output_data_file = \"cities.csv\"\n",
    "\n",
    "# Range of latitudes and longitudes\n",
    "lat_range = (-90, 90)\n",
    "lng_range = (-180, 180)"
   ]
  },
  {
   "cell_type": "markdown",
   "metadata": {},
   "source": [
    "## Generate Cities List"
   ]
  },
  {
   "cell_type": "code",
   "execution_count": 5,
   "metadata": {},
   "outputs": [
    {
     "data": {
      "text/plain": [
       "615"
      ]
     },
     "execution_count": 5,
     "metadata": {},
     "output_type": "execute_result"
    }
   ],
   "source": [
    "# List for holding lat_lngs and cities\n",
    "lat_lngs = []\n",
    "cities = []\n",
    "\n",
    "# Create a set of random lat and lng combinations\n",
    "lats = np.random.uniform(lat_range[0], lat_range[1], size=1500)\n",
    "lngs = np.random.uniform(lng_range[0], lng_range[1], size=1500)\n",
    "lat_lngs = zip(lats, lngs)\n",
    "\n",
    "# Identify nearest city for each lat, lng combination\n",
    "for lat_lng in lat_lngs:\n",
    "    city = citipy.nearest_city(lat_lng[0], lat_lng[1]).city_name\n",
    "    \n",
    "    # If the city is unique, then add it to a our cities list\n",
    "    if city not in cities:\n",
    "        cities.append(city)\n",
    "\n",
    "# Print the city count to confirm sufficient count\n",
    "len(cities)"
   ]
  },
  {
   "cell_type": "markdown",
   "metadata": {},
   "source": [
    "### Perform API Calls\n",
    "* Perform a weather check on each city using a series of successive API calls.\n",
    "* Include a print log of each city as it'sbeing processed (with the city number and city name).\n"
   ]
  },
  {
   "cell_type": "code",
   "execution_count": 6,
   "metadata": {},
   "outputs": [
    {
     "name": "stdout",
     "output_type": "stream",
     "text": [
      "Beginning Data Retrieval\n",
      "-----------------------------\n",
      "Processing Record 1 of Set 1 | Along\n",
      "Processing Record 2 of Set 1 | Bandarbeyla\n",
      "Processing Record 3 of Set 1 | Shaunavon\n",
      "Processing Record 4 of Set 1 | Upernavik\n",
      "Processing Record 5 of Set 1 | George Town\n",
      "Processing Record 6 of Set 1 | Hāflong\n",
      "Processing Record 7 of Set 1 | Kapaa\n",
      "Processing Record 8 of Set 1 | Hermanus\n",
      "Processing Record 9 of Set 1 | The Valley\n",
      "Processing Record 10 of Set 1 | Hithadhoo\n",
      "Processing Record 11 of Set 1 | Rikitea\n",
      "Processing Record 12 of Set 1 | Mataura\n",
      "Processing Record 13 of Set 1 | Jamestown\n",
      "Processing Record 14 of Set 1 | Grindavik\n",
      "Processing Record 15 of Set 1 | Cape Town\n",
      "Processing Record 16 of Set 1 | Castro\n",
      "Processing Record 17 of Set 1 | Ushuaia\n",
      "Processing Record 18 of Set 1 | Port Elizabeth\n",
      "Processing Record 19 of Set 1 | Oxford\n",
      "Processing Record 20 of Set 1 | Butaritari\n",
      "Processing Record 21 of Set 1 | Fairbanks\n",
      "Processing Record 22 of Set 1 | Busselton\n",
      "Processing Record 23 of Set 1 | Horta\n",
      "Processing Record 24 of Set 1 | San Jerónimo\n",
      "Processing Record 25 of Set 1 | São Domingos\n",
      "Processing Record 26 of Set 1 | Thompson\n",
      "Processing Record 27 of Set 1 | Hobart\n",
      "Processing Record 28 of Set 1 | Darhan\n",
      "Processing Record 29 of Set 1 | Qaanaaq\n",
      "Processing Record 30 of Set 1 | Narsaq\n",
      "City not found. Skipping...\n",
      "City not found. Skipping...\n",
      "Processing Record 33 of Set 1 | Yellowknife\n",
      "City not found. Skipping...\n",
      "Processing Record 35 of Set 1 | Bonga\n",
      "Processing Record 36 of Set 1 | Hilo\n",
      "Processing Record 37 of Set 1 | St. Marys\n",
      "Processing Record 38 of Set 1 | Tasiilaq\n",
      "Processing Record 39 of Set 1 | Vrangel'\n",
      "Processing Record 40 of Set 1 | Port Alfred\n",
      "Processing Record 41 of Set 1 | Itoman\n",
      "Processing Record 42 of Set 1 | Santa\n",
      "Processing Record 43 of Set 1 | Vaini\n",
      "Processing Record 44 of Set 1 | Katsuura\n",
      "Processing Record 45 of Set 1 | Chokurdakh\n",
      "Processing Record 46 of Set 1 | Cherskiy\n",
      "Processing Record 47 of Set 1 | Nyurba\n",
      "Processing Record 48 of Set 1 | Merauke\n",
      "Processing Record 49 of Set 1 | Winnemucca\n",
      "Processing Record 50 of Set 1 | Bredasdorp\n",
      "Processing Record 51 of Set 1 | Ovalle\n",
      "Processing Record 52 of Set 1 | Leer\n",
      "Processing Record 53 of Set 1 | Atuona\n",
      "Processing Record 54 of Set 1 | Tuktoyaktuk\n",
      "Processing Record 55 of Set 1 | Nambucca Heads\n",
      "Processing Record 56 of Set 1 | Los Baños\n",
      "Processing Record 57 of Set 1 | Carnarvon\n",
      "Processing Record 58 of Set 1 | Glodeni\n",
      "City not found. Skipping...\n",
      "Processing Record 60 of Set 1 | Ojinaga\n",
      "Processing Record 61 of Set 1 | Chui\n",
      "Processing Record 62 of Set 1 | Flinders\n",
      "City not found. Skipping...\n",
      "Processing Record 64 of Set 1 | San Patricio\n",
      "City not found. Skipping...\n",
      "City not found. Skipping...\n",
      "Processing Record 67 of Set 1 | Dikson\n",
      "Processing Record 68 of Set 1 | Cap-aux-Meules\n",
      "Processing Record 69 of Set 1 | Namatanai\n",
      "Processing Record 70 of Set 1 | Iberia\n",
      "Processing Record 71 of Set 1 | Saint Paul Harbor\n",
      "Processing Record 72 of Set 1 | Gubkinskiy\n",
      "Processing Record 73 of Set 1 | Savé\n",
      "Processing Record 74 of Set 1 | São Filipe\n",
      "Processing Record 75 of Set 1 | Hinton\n",
      "Processing Record 76 of Set 1 | Biak\n",
      "Processing Record 77 of Set 1 | Avarua\n",
      "Processing Record 78 of Set 1 | Mahon\n",
      "Processing Record 79 of Set 1 | Punta Arenas\n",
      "Processing Record 80 of Set 1 | Varhaug\n",
      "City not found. Skipping...\n",
      "Processing Record 82 of Set 1 | Novy Urengoy\n",
      "Processing Record 83 of Set 1 | Barzas\n",
      "Processing Record 84 of Set 1 | Vallenar\n",
      "Processing Record 85 of Set 1 | Khatanga\n",
      "Processing Record 86 of Set 1 | Zyryanka\n",
      "Processing Record 87 of Set 1 | Flin Flon\n",
      "Processing Record 88 of Set 1 | Faya\n",
      "Processing Record 89 of Set 1 | Ribeira Grande\n",
      "Processing Record 90 of Set 1 | Souillac\n",
      "Processing Record 91 of Set 1 | Kalāleh\n",
      "Processing Record 92 of Set 1 | Saint-Augustin\n",
      "Processing Record 93 of Set 1 | Villa Unión\n",
      "Processing Record 94 of Set 1 | Patacamaya\n",
      "Processing Record 95 of Set 1 | Kaeo\n",
      "Processing Record 96 of Set 1 | Cherëmukhovo\n",
      "Processing Record 97 of Set 1 | Puerto Ayora\n",
      "Processing Record 98 of Set 1 | Kloulklubed\n",
      "Processing Record 99 of Set 1 | São Félix do Xingu\n",
      "Processing Record 100 of Set 1 | Cockburn Town\n",
      "Processing Record 101 of Set 1 | Ponta do Sol\n",
      "Processing Record 102 of Set 1 | Colesberg\n",
      "Processing Record 103 of Set 1 | Nikolskoye\n",
      "Processing Record 104 of Set 1 | Inhambane\n",
      "Processing Record 105 of Set 1 | Manakara\n",
      "Processing Record 106 of Set 1 | Camabatela\n",
      "Processing Record 107 of Set 1 | Mahébourg\n",
      "City not found. Skipping...\n",
      "Processing Record 109 of Set 1 | Khandyga\n",
      "Processing Record 110 of Set 1 | Fortuna\n",
      "Processing Record 111 of Set 1 | East London\n",
      "Processing Record 112 of Set 1 | Coyhaique\n",
      "Processing Record 113 of Set 1 | Yamada\n",
      "Processing Record 114 of Set 1 | Snezhnogorsk\n",
      "Processing Record 115 of Set 1 | Nome\n",
      "Processing Record 116 of Set 1 | Bambous Virieux\n",
      "Processing Record 117 of Set 1 | Albany\n",
      "Processing Record 118 of Set 1 | Bluff\n",
      "Processing Record 119 of Set 1 | Sur\n",
      "Processing Record 120 of Set 1 | Kahului\n",
      "Processing Record 121 of Set 1 | Laguna\n",
      "Processing Record 122 of Set 1 | Santa Barbara\n",
      "Processing Record 123 of Set 1 | Charleston\n",
      "Processing Record 124 of Set 1 | Scarborough\n",
      "Processing Record 125 of Set 1 | Apahida\n",
      "Processing Record 126 of Set 1 | Penzance\n",
      "City not found. Skipping...\n",
      "Processing Record 128 of Set 1 | Hong Kong\n",
      "Processing Record 129 of Set 1 | Odienné\n",
      "Processing Record 130 of Set 1 | Manavālakurichi\n",
      "Processing Record 131 of Set 1 | Kosai\n",
      "Processing Record 132 of Set 1 | San Andrés\n",
      "Processing Record 133 of Set 1 | Plettenberg Bay\n",
      "Processing Record 134 of Set 1 | Luba\n",
      "Processing Record 135 of Set 1 | Tiksi\n",
      "City not found. Skipping...\n",
      "Processing Record 137 of Set 1 | Raja\n",
      "Processing Record 138 of Set 1 | Arraial do Cabo\n",
      "Processing Record 139 of Set 1 | Mount Gambier\n",
      "Processing Record 140 of Set 1 | Rock Sound\n",
      "City not found. Skipping...\n",
      "Processing Record 142 of Set 1 | Beloha\n",
      "Processing Record 143 of Set 1 | Porbandar\n",
      "Processing Record 144 of Set 1 | Margate\n",
      "Processing Record 145 of Set 1 | Barrow\n",
      "Processing Record 146 of Set 1 | Bathsheba\n",
      "Processing Record 147 of Set 1 | Acapulco de Juárez\n",
      "Processing Record 148 of Set 1 | Porto Santo\n",
      "Processing Record 149 of Set 1 | Ilulissat\n",
      "Processing Record 150 of Set 1 | Tommot\n",
      "Processing Record 151 of Set 1 | Aykhal\n",
      "Processing Record 152 of Set 1 | Bar Harbor\n",
      "City not found. Skipping...\n",
      "Processing Record 154 of Set 1 | Mar del Plata\n",
      "Processing Record 155 of Set 1 | Pangnirtung\n",
      "Processing Record 156 of Set 1 | Keetmanshoop\n",
      "City not found. Skipping...\n",
      "Processing Record 158 of Set 1 | Evensk\n",
      "Processing Record 159 of Set 1 | Marsaxlokk\n",
      "Processing Record 160 of Set 1 | Fougamou\n",
      "Processing Record 161 of Set 1 | Kaitangata\n",
      "City not found. Skipping...\n",
      "Processing Record 163 of Set 1 | Japura\n",
      "Processing Record 164 of Set 1 | Marzuq\n",
      "Processing Record 165 of Set 1 | Port Moresby\n",
      "Processing Record 166 of Set 1 | Niny\n",
      "Processing Record 167 of Set 1 | College\n",
      "Processing Record 168 of Set 1 | Sola\n",
      "Processing Record 169 of Set 1 | Rosetta\n",
      "City not found. Skipping...\n",
      "Processing Record 171 of Set 1 | Saskylakh\n",
      "Processing Record 172 of Set 1 | Redcliffe\n",
      "Processing Record 173 of Set 1 | Zigong\n",
      "Processing Record 174 of Set 1 | Klaksvík\n",
      "Processing Record 175 of Set 1 | Asău\n",
      "Processing Record 176 of Set 1 | Sitka\n",
      "Processing Record 177 of Set 1 | Honiara\n",
      "Processing Record 178 of Set 1 | Waipawa\n",
      "Processing Record 179 of Set 1 | Mocuba\n",
      "Processing Record 180 of Set 1 | Ambulu\n",
      "Processing Record 181 of Set 1 | Gitega Province\n",
      "City not found. Skipping...\n",
      "Processing Record 183 of Set 1 | Auki\n",
      "Processing Record 184 of Set 1 | Daru\n",
      "Processing Record 185 of Set 1 | São João da Barra\n",
      "Processing Record 186 of Set 1 | Tsimmerbude\n",
      "Processing Record 187 of Set 1 | Najrān\n",
      "Processing Record 188 of Set 1 | Muravlenko\n",
      "Processing Record 189 of Set 1 | Khani\n",
      "Processing Record 190 of Set 1 | San Cristobal\n",
      "City not found. Skipping...\n",
      "Processing Record 192 of Set 1 | Vestmannaeyjar\n",
      "Processing Record 193 of Set 1 | Bonthe\n",
      "Processing Record 194 of Set 1 | Ouallam\n",
      "Processing Record 195 of Set 1 | Kasiri\n",
      "Processing Record 196 of Set 1 | Yidu\n",
      "Processing Record 197 of Set 1 | Saint-Philippe\n",
      "Processing Record 198 of Set 1 | Zaranj\n",
      "Processing Record 199 of Set 1 | Sosnovo-Ozerskoye\n",
      "Processing Record 200 of Set 1 | Ancud\n"
     ]
    },
    {
     "name": "stdout",
     "output_type": "stream",
     "text": [
      "City not found. Skipping...\n",
      "Processing Record 202 of Set 1 | Beyneu\n",
      "Processing Record 203 of Set 1 | Ludvika\n",
      "Processing Record 204 of Set 1 | Bubaque\n",
      "Processing Record 205 of Set 1 | Kamenka\n",
      "Processing Record 206 of Set 1 | Hambantota\n",
      "Processing Record 207 of Set 1 | Salalah\n",
      "Processing Record 208 of Set 1 | Hay River\n",
      "Processing Record 209 of Set 1 | Yangi Marg`ilon\n",
      "Processing Record 210 of Set 1 | Airai\n",
      "Processing Record 211 of Set 1 | Lodeynoye Pole\n",
      "Processing Record 212 of Set 1 | Gobabis\n",
      "Processing Record 213 of Set 1 | Iqaluit\n",
      "Processing Record 214 of Set 1 | Pangai\n",
      "City not found. Skipping...\n",
      "Processing Record 216 of Set 1 | Muros\n",
      "Processing Record 217 of Set 1 | Sorong\n",
      "Processing Record 218 of Set 1 | Tripoli\n",
      "Processing Record 219 of Set 1 | Lavrentiya\n",
      "Processing Record 220 of Set 1 | Fayaoué\n",
      "Processing Record 221 of Set 1 | Chornoliztsi\n",
      "Processing Record 222 of Set 1 | Ji’an\n",
      "Processing Record 223 of Set 1 | Lompoc\n",
      "Processing Record 224 of Set 1 | Holme\n",
      "Processing Record 225 of Set 1 | Norfolk\n",
      "Processing Record 226 of Set 1 | Guerrero Negro\n",
      "Processing Record 227 of Set 1 | Sabang\n",
      "Processing Record 228 of Set 1 | Karratha\n",
      "Processing Record 229 of Set 1 | Alta Floresta\n",
      "Processing Record 230 of Set 1 | Meïganga\n",
      "Processing Record 231 of Set 1 | Balgazyn\n",
      "Processing Record 232 of Set 1 | Provideniya\n",
      "Processing Record 233 of Set 1 | Sharan\n",
      "Processing Record 234 of Set 1 | Río Gallegos\n",
      "Processing Record 235 of Set 1 | Codrington\n",
      "Processing Record 236 of Set 1 | Geraldton\n",
      "Processing Record 237 of Set 1 | Arlit\n",
      "Processing Record 238 of Set 1 | Bethel\n",
      "Processing Record 239 of Set 1 | Emerald\n",
      "Processing Record 240 of Set 1 | Amla\n",
      "Processing Record 241 of Set 1 | Clyde River\n",
      "Processing Record 242 of Set 1 | Santa Marta\n",
      "Processing Record 243 of Set 1 | Arrondissement de Privas\n",
      "Processing Record 244 of Set 1 | Cap Malheureux\n",
      "City not found. Skipping...\n",
      "Processing Record 246 of Set 1 | Chibuto\n",
      "Processing Record 247 of Set 1 | Merrill\n",
      "Processing Record 248 of Set 1 | Vágur\n",
      "Processing Record 249 of Set 1 | Kristinehamn\n",
      "Processing Record 250 of Set 1 | Sotouboua\n",
      "Processing Record 251 of Set 1 | Grand Gaube\n",
      "Processing Record 252 of Set 1 | Mendoza\n",
      "City not found. Skipping...\n",
      "Processing Record 254 of Set 1 | Waiouru\n",
      "Processing Record 255 of Set 1 | Sheridan\n",
      "City not found. Skipping...\n",
      "Processing Record 257 of Set 1 | Bengkulu\n",
      "Processing Record 258 of Set 1 | Kargopol'\n",
      "Processing Record 259 of Set 1 | Kavieng\n",
      "Processing Record 260 of Set 1 | Sambava\n",
      "Processing Record 261 of Set 1 | Coquimbo\n",
      "Processing Record 262 of Set 1 | Luganville\n",
      "Processing Record 263 of Set 1 | Road Town\n",
      "Processing Record 264 of Set 1 | Yar-Sale\n",
      "Processing Record 265 of Set 1 | Taoudenni\n",
      "Processing Record 266 of Set 1 | Kumul\n",
      "Processing Record 267 of Set 1 | Yulara\n",
      "Processing Record 268 of Set 1 | Nemuro\n",
      "Processing Record 269 of Set 1 | Moerai\n",
      "Processing Record 270 of Set 1 | Osakarovka\n",
      "City not found. Skipping...\n",
      "Processing Record 272 of Set 1 | Minot\n",
      "Processing Record 273 of Set 1 | Aleysk\n",
      "Processing Record 274 of Set 1 | Shelburne\n",
      "Processing Record 275 of Set 1 | Zlatoust\n",
      "Processing Record 276 of Set 1 | Chimoio\n",
      "Processing Record 277 of Set 1 | Cortland\n",
      "Processing Record 278 of Set 1 | Zwedru\n",
      "Processing Record 279 of Set 1 | Chiang Khong\n",
      "Processing Record 280 of Set 1 | Monrovia\n",
      "Processing Record 281 of Set 1 | Talnakh\n",
      "City not found. Skipping...\n",
      "Processing Record 283 of Set 1 | Santiago del Estero\n",
      "Processing Record 284 of Set 1 | Igrim\n",
      "Processing Record 285 of Set 1 | Cabrobó\n",
      "Processing Record 286 of Set 1 | Biltine\n",
      "Processing Record 287 of Set 1 | Griffith\n",
      "Processing Record 288 of Set 1 | Ostrovnoy\n",
      "Processing Record 289 of Set 1 | Pevek\n",
      "Processing Record 290 of Set 1 | Acajutla\n",
      "Processing Record 291 of Set 1 | Santa Cruz de La Palma\n",
      "Processing Record 292 of Set 1 | Zhigansk\n",
      "Processing Record 293 of Set 1 | Mitú\n",
      "Processing Record 294 of Set 1 | Haines Junction\n",
      "Processing Record 295 of Set 1 | Sangar\n",
      "Processing Record 296 of Set 1 | Katobu\n",
      "Processing Record 297 of Set 1 | Ayan\n",
      "Processing Record 298 of Set 1 | Berlevåg\n",
      "Processing Record 299 of Set 1 | Pontefract\n",
      "Processing Record 300 of Set 1 | Adrar\n",
      "Processing Record 301 of Set 1 | Mezen'\n",
      "Processing Record 302 of Set 1 | Tromsø\n",
      "City not found. Skipping...\n",
      "Processing Record 304 of Set 1 | Barabinsk\n",
      "City not found. Skipping...\n",
      "Processing Record 306 of Set 1 | Kununurra\n",
      "Processing Record 307 of Set 1 | Domoni\n",
      "Processing Record 308 of Set 1 | Barabai\n",
      "Processing Record 309 of Set 1 | Luanda\n",
      "Processing Record 310 of Set 1 | Constitución\n",
      "Processing Record 311 of Set 1 | Cabra\n",
      "Processing Record 312 of Set 1 | Hamilton\n",
      "Processing Record 313 of Set 1 | Kampot\n",
      "Processing Record 314 of Set 1 | Garoowe\n",
      "Processing Record 315 of Set 1 | Puerto Escondido\n",
      "Processing Record 316 of Set 1 | Dehlorān\n",
      "Processing Record 317 of Set 1 | Carrollton\n",
      "Processing Record 318 of Set 1 | Faanui\n",
      "Processing Record 319 of Set 1 | Hasaki\n",
      "Processing Record 320 of Set 1 | Samarai\n",
      "Processing Record 321 of Set 1 | Andenes\n",
      "Processing Record 322 of Set 1 | Isangel\n",
      "Processing Record 323 of Set 1 | Aksarka\n",
      "Processing Record 324 of Set 1 | Assiut\n",
      "Processing Record 325 of Set 1 | Matara\n",
      "Processing Record 326 of Set 1 | New Norfolk\n",
      "Processing Record 327 of Set 1 | Pisco\n",
      "Processing Record 328 of Set 1 | Huejúcar\n",
      "Processing Record 329 of Set 1 | Torbay\n",
      "Processing Record 330 of Set 1 | Carutapera\n",
      "Processing Record 331 of Set 1 | Vila\n",
      "Processing Record 332 of Set 1 | Dingle\n",
      "Processing Record 333 of Set 1 | Hirara\n",
      "Processing Record 334 of Set 1 | Hammerfest\n",
      "Processing Record 335 of Set 1 | Cabo San Lucas\n",
      "Processing Record 336 of Set 1 | Dwārka\n",
      "Processing Record 337 of Set 1 | Atar\n",
      "Processing Record 338 of Set 1 | Avera\n",
      "Processing Record 339 of Set 1 | Xuanzhou\n",
      "Processing Record 340 of Set 1 | Lebu\n",
      "Processing Record 341 of Set 1 | Mount Isa\n",
      "City not found. Skipping...\n",
      "Processing Record 343 of Set 1 | Lithakia\n",
      "Processing Record 344 of Set 1 | Saint George\n",
      "Processing Record 345 of Set 1 | Poum\n",
      "Processing Record 346 of Set 1 | Lagoa\n",
      "Processing Record 347 of Set 1 | Riverton\n",
      "Processing Record 348 of Set 1 | Suez\n",
      "Processing Record 349 of Set 1 | Palmer\n",
      "Processing Record 350 of Set 1 | Baharly\n",
      "Processing Record 351 of Set 1 | Fallon\n",
      "Processing Record 352 of Set 1 | Ellensburg\n",
      "Processing Record 353 of Set 1 | Lagunas\n",
      "Processing Record 354 of Set 1 | Front Royal\n",
      "Processing Record 355 of Set 1 | Ponta Delgada\n",
      "Processing Record 356 of Set 1 | Saint-Pierre\n",
      "Processing Record 357 of Set 1 | Durusu\n",
      "Processing Record 358 of Set 1 | Esmeraldas\n",
      "Processing Record 359 of Set 1 | Deputatsky\n",
      "City not found. Skipping...\n",
      "Processing Record 361 of Set 1 | Camalú\n",
      "Processing Record 362 of Set 1 | Uauá\n",
      "Processing Record 363 of Set 1 | Juneau\n",
      "Processing Record 364 of Set 1 | Cidreira\n",
      "Processing Record 365 of Set 1 | Ulaangom\n",
      "Processing Record 366 of Set 1 | Polistena\n",
      "Processing Record 367 of Set 1 | Vardø\n",
      "Processing Record 368 of Set 1 | Nicoya\n",
      "Processing Record 369 of Set 1 | Vaasa\n",
      "Processing Record 370 of Set 1 | Los Llanos de Aridane\n",
      "Processing Record 371 of Set 1 | Lyndon\n",
      "Processing Record 372 of Set 1 | Anchorage\n",
      "Processing Record 373 of Set 1 | Tot'ma\n",
      "Processing Record 374 of Set 1 | Labuhan\n",
      "Processing Record 375 of Set 1 | Litovko\n",
      "Processing Record 376 of Set 1 | Oga\n",
      "Processing Record 377 of Set 1 | Nouakchott\n",
      "Processing Record 378 of Set 1 | Lüderitz\n",
      "Processing Record 379 of Set 1 | Byron Bay\n",
      "Processing Record 380 of Set 1 | Tevaitoa\n",
      "Processing Record 381 of Set 1 | Norman Wells\n",
      "Processing Record 382 of Set 1 | Tiznit Province\n",
      "Processing Record 383 of Set 1 | Tuatapere\n",
      "Processing Record 384 of Set 1 | La Ronge\n",
      "Processing Record 385 of Set 1 | Visby\n",
      "Processing Record 386 of Set 1 | Nuevo Ideal\n",
      "Processing Record 387 of Set 1 | Moses Lake\n",
      "Processing Record 388 of Set 1 | Ghanzi\n",
      "Processing Record 389 of Set 1 | Lázaro Cárdenas\n",
      "Processing Record 390 of Set 1 | Ballina\n",
      "Processing Record 391 of Set 1 | Morondava\n",
      "Processing Record 392 of Set 1 | Sawākin\n",
      "Processing Record 393 of Set 1 | Kiryat Gat\n",
      "Processing Record 394 of Set 1 | Socorro\n",
      "Processing Record 395 of Set 1 | Bavleny\n",
      "Processing Record 396 of Set 1 | Kalevala\n",
      "Processing Record 397 of Set 1 | Kavaratti\n",
      "Processing Record 398 of Set 1 | Yarmouth\n",
      "Processing Record 399 of Set 1 | Joshīmath\n"
     ]
    },
    {
     "name": "stdout",
     "output_type": "stream",
     "text": [
      "Processing Record 400 of Set 1 | Rong Kwang\n",
      "Processing Record 401 of Set 1 | Kutum\n",
      "Processing Record 402 of Set 1 | Buchanan\n",
      "Processing Record 403 of Set 1 | Comodoro Rivadavia\n",
      "Processing Record 404 of Set 1 | Moshenskoye\n",
      "Processing Record 405 of Set 1 | Jalu\n",
      "Processing Record 406 of Set 1 | Batticaloa\n",
      "Processing Record 407 of Set 1 | Pemangkat\n",
      "Processing Record 408 of Set 1 | Palana\n",
      "Processing Record 409 of Set 1 | Paamiut\n",
      "Processing Record 410 of Set 1 | Broken Hill\n",
      "Processing Record 411 of Set 1 | Liverpool\n",
      "Processing Record 412 of Set 1 | Nanortalik\n",
      "City not found. Skipping...\n",
      "Processing Record 414 of Set 1 | Güzelyurt\n",
      "Processing Record 415 of Set 1 | Meulaboh\n",
      "Processing Record 416 of Set 1 | Sucúa\n",
      "Processing Record 417 of Set 1 | Bridlington\n",
      "Processing Record 418 of Set 1 | Freeport\n",
      "Processing Record 419 of Set 1 | Zhuhai\n",
      "Processing Record 420 of Set 1 | Perelyub\n",
      "Processing Record 421 of Set 1 | Guadalupe y Calvo\n",
      "Processing Record 422 of Set 1 | Parrita\n",
      "Processing Record 423 of Set 1 | Berbera\n",
      "Processing Record 424 of Set 1 | Usinsk\n",
      "Processing Record 425 of Set 1 | Masallātah\n",
      "Processing Record 426 of Set 1 | Leningradskiy\n",
      "Processing Record 427 of Set 1 | Bonnyville\n",
      "Processing Record 428 of Set 1 | Esperance\n",
      "City not found. Skipping...\n",
      "Processing Record 430 of Set 1 | Portland\n",
      "Processing Record 431 of Set 1 | Aklavik\n",
      "Processing Record 432 of Set 1 | Belaya Gora\n",
      "Processing Record 433 of Set 1 | Nkhotakota\n",
      "Processing Record 434 of Set 1 | Port Macquarie\n",
      "Processing Record 435 of Set 1 | Bonfim\n",
      "Processing Record 436 of Set 1 | Casambalangan\n",
      "Processing Record 437 of Set 1 | Bilma\n",
      "Processing Record 438 of Set 1 | Erzin\n",
      "City not found. Skipping...\n",
      "Processing Record 440 of Set 1 | Celestún\n",
      "Processing Record 441 of Set 1 | Ust-Tsilma\n",
      "Processing Record 442 of Set 1 | Sakaiminato\n",
      "Processing Record 443 of Set 1 | Leh\n",
      "Processing Record 444 of Set 1 | Aného\n",
      "Processing Record 445 of Set 1 | Takoradze\n",
      "Processing Record 446 of Set 1 | Markova\n",
      "Processing Record 447 of Set 1 | Gurlan\n",
      "Processing Record 448 of Set 1 | Santa Lucía\n",
      "Processing Record 449 of Set 1 | Gravdal\n",
      "Processing Record 450 of Set 1 | Vanavara\n",
      "Processing Record 451 of Set 1 | Amahai\n",
      "Processing Record 452 of Set 1 | Lusambo\n",
      "Processing Record 453 of Set 1 | Panevezys\n",
      "City not found. Skipping...\n",
      "Processing Record 455 of Set 1 | Bonavista\n",
      "Processing Record 456 of Set 1 | Olafsvik\n",
      "Processing Record 457 of Set 1 | Vanderhoof\n",
      "Processing Record 458 of Set 1 | Yerbogachën\n",
      "Processing Record 459 of Set 1 | Chake Chake\n",
      "Processing Record 460 of Set 1 | Kostomuksha\n",
      "Processing Record 461 of Set 1 | Arinos\n",
      "Processing Record 462 of Set 1 | Barra Patuca\n",
      "Processing Record 463 of Set 1 | Tazovsky\n",
      "City not found. Skipping...\n",
      "Processing Record 465 of Set 1 | Santa Maria\n",
      "Processing Record 466 of Set 1 | Luanda\n",
      "Processing Record 467 of Set 1 | Sioux Lookout\n",
      "Processing Record 468 of Set 1 | Praia\n",
      "City not found. Skipping...\n",
      "Processing Record 470 of Set 1 | Kailua\n",
      "Processing Record 471 of Set 1 | Saint-Joseph\n",
      "Processing Record 472 of Set 1 | Mascote\n",
      "City not found. Skipping...\n",
      "Processing Record 474 of Set 1 | Skeldon\n",
      "Processing Record 475 of Set 1 | Touros\n",
      "Processing Record 476 of Set 1 | Saint-Paul-lès-Dax\n",
      "Processing Record 477 of Set 1 | Tomatlán\n",
      "City not found. Skipping...\n",
      "Processing Record 479 of Set 1 | Jackson\n",
      "Processing Record 480 of Set 1 | Gemeente Wageningen\n",
      "Processing Record 481 of Set 1 | Hualmay\n",
      "Processing Record 482 of Set 1 | Caravelas\n",
      "Processing Record 483 of Set 1 | Longyearbyen\n",
      "Processing Record 484 of Set 1 | Severo-Kuril'sk\n",
      "Processing Record 485 of Set 1 | Patrocínio\n",
      "Processing Record 486 of Set 1 | Sarh\n",
      "Processing Record 487 of Set 1 | Sribne\n",
      "Processing Record 488 of Set 1 | Monaragala\n",
      "Processing Record 489 of Set 1 | Kolokani\n",
      "Processing Record 490 of Set 1 | Constantine\n",
      "Processing Record 491 of Set 1 | Pochutla\n",
      "Processing Record 492 of Set 1 | Mariental\n",
      "Processing Record 493 of Set 1 | Sande\n",
      "Processing Record 494 of Set 1 | Lorengau\n",
      "Processing Record 495 of Set 1 | Abu Kamal\n",
      "Processing Record 496 of Set 1 | Port Hedland\n",
      "Processing Record 497 of Set 1 | Bokoro\n",
      "Processing Record 498 of Set 1 | Oistins\n",
      "Processing Record 499 of Set 1 | Lockhart\n",
      "Processing Record 500 of Set 1 | Ambilobe\n",
      "Processing Record 501 of Set 1 | Jiangyou\n",
      "Processing Record 502 of Set 1 | Rodrigues Alves\n",
      "Processing Record 503 of Set 1 | Aksu\n",
      "Processing Record 504 of Set 1 | Priladozhskiy\n",
      "Processing Record 505 of Set 1 | Roebourne\n",
      "Processing Record 506 of Set 1 | Cristóbal Obregón\n",
      "Processing Record 507 of Set 1 | Embonas\n",
      "City not found. Skipping...\n",
      "Processing Record 509 of Set 1 | Ekhabi\n",
      "Processing Record 510 of Set 1 | Athens\n",
      "Processing Record 511 of Set 1 | Malanje\n",
      "Processing Record 512 of Set 1 | Goderich\n",
      "Processing Record 513 of Set 1 | Port Hardy\n",
      "Processing Record 514 of Set 1 | Floresta\n",
      "Processing Record 515 of Set 1 | Yoichi\n",
      "Processing Record 516 of Set 1 | Konya Province\n",
      "Processing Record 517 of Set 1 | Umm Kaddadah\n",
      "Processing Record 518 of Set 1 | Nur-Sultan\n",
      "Processing Record 519 of Set 1 | Blanquefort\n",
      "Processing Record 520 of Set 1 | Plouzané\n",
      "Processing Record 521 of Set 1 | Vila Velha\n",
      "Processing Record 522 of Set 1 | Killybegs\n",
      "Processing Record 523 of Set 1 | Kyaukse\n",
      "Processing Record 524 of Set 1 | Ngunguru\n",
      "Processing Record 525 of Set 1 | Kruisfontein\n",
      "Processing Record 526 of Set 1 | Port Lincoln\n",
      "Processing Record 527 of Set 1 | Bundaberg\n",
      "Processing Record 528 of Set 1 | Araouane\n",
      "Processing Record 529 of Set 1 | Reshetylivka\n",
      "Processing Record 530 of Set 1 | Sharjah city\n",
      "Processing Record 531 of Set 1 | Lata\n",
      "Processing Record 532 of Set 1 | Half Moon Bay\n",
      "Processing Record 533 of Set 1 | Vilyuysk\n",
      "Processing Record 534 of Set 1 | Sinnamary\n",
      "Processing Record 535 of Set 1 | Marau\n",
      "Processing Record 536 of Set 1 | Pangody\n",
      "Processing Record 537 of Set 1 | Fare\n",
      "Processing Record 538 of Set 1 | Normandin\n",
      "Processing Record 539 of Set 1 | Lypnyazhka\n",
      "Processing Record 540 of Set 1 | Øksfjord\n",
      "Processing Record 541 of Set 1 | Nipawin\n",
      "Processing Record 542 of Set 1 | Richards Bay\n",
      "Processing Record 543 of Set 1 | Qasigiannguit\n",
      "Processing Record 544 of Set 1 | Naze\n",
      "Processing Record 545 of Set 1 | Karakol\n",
      "Processing Record 546 of Set 1 | Ukiah\n",
      "Processing Record 547 of Set 1 | Arāmbāgh\n",
      "Processing Record 548 of Set 1 | Sudak\n",
      "Processing Record 549 of Set 1 | Ostrovskoye\n",
      "Processing Record 550 of Set 1 | Kulhudhuffushi\n",
      "Processing Record 551 of Set 1 | Quartz Hill\n",
      "Processing Record 552 of Set 1 | Abnūb\n",
      "Processing Record 553 of Set 1 | Põltsamaa\n",
      "Processing Record 554 of Set 1 | Urengoy\n",
      "Processing Record 555 of Set 1 | Tura\n",
      "Processing Record 556 of Set 1 | Luwuk\n",
      "Processing Record 557 of Set 1 | Gimli\n",
      "Processing Record 558 of Set 1 | Orapa\n",
      "Processing Record 559 of Set 1 | Maralal\n",
      "Processing Record 560 of Set 1 | Yangjiang\n",
      "Processing Record 561 of Set 1 | Soverato Marina\n",
      "City not found. Skipping...\n",
      "Processing Record 563 of Set 1 | Surgut\n",
      "Processing Record 564 of Set 1 | Port-Gentil\n",
      "Processing Record 565 of Set 1 | Gizo Government Station\n",
      "Processing Record 566 of Set 1 | Zhezkazgan\n",
      "Processing Record 567 of Set 1 | Brae\n",
      "Processing Record 568 of Set 1 | Nizwá\n",
      "Processing Record 569 of Set 1 | Havre-St-Pierre\n",
      "Processing Record 570 of Set 1 | Prince Rupert\n",
      "Processing Record 571 of Set 1 | Iskateley\n",
      "City not found. Skipping...\n",
      "Processing Record 573 of Set 1 | Buala\n",
      "Processing Record 574 of Set 1 | Kedrovyy\n",
      "Processing Record 575 of Set 1 | Abbotsford\n",
      "Processing Record 576 of Set 1 | Concepción\n",
      "Processing Record 577 of Set 1 | Ipixuna\n",
      "Processing Record 578 of Set 1 | Umeå\n",
      "Processing Record 579 of Set 1 | Alappuzha\n",
      "Processing Record 580 of Set 1 | Weinan\n",
      "Processing Record 581 of Set 1 | Weiser\n",
      "Processing Record 582 of Set 1 | Viedma\n",
      "Processing Record 583 of Set 1 | Bichura\n",
      "Processing Record 584 of Set 1 | Hofn\n",
      "Processing Record 585 of Set 1 | Rūdbār\n",
      "Processing Record 586 of Set 1 | Monte Santo de Minas\n",
      "Processing Record 587 of Set 1 | Point Pedro\n",
      "City not found. Skipping...\n",
      "Processing Record 589 of Set 1 | Kaseda-shirakame\n",
      "Processing Record 590 of Set 1 | Russell\n",
      "Processing Record 591 of Set 1 | Camacha\n",
      "Processing Record 592 of Set 1 | Khorixas\n",
      "Processing Record 593 of Set 1 | Worland\n",
      "Processing Record 594 of Set 1 | Forchheim\n",
      "Processing Record 595 of Set 1 | Derbent\n"
     ]
    },
    {
     "name": "stdout",
     "output_type": "stream",
     "text": [
      "Processing Record 596 of Set 1 | Port Blair\n",
      "Processing Record 597 of Set 1 | Tecolutla\n",
      "Processing Record 598 of Set 1 | Pitimbu\n",
      "Processing Record 599 of Set 1 | Wanning\n",
      "Processing Record 600 of Set 1 | Yenagoa\n",
      "Processing Record 601 of Set 1 | Mumbai\n",
      "Processing Record 602 of Set 1 | Nurota\n",
      "Processing Record 603 of Set 1 | Kismayo\n",
      "Processing Record 604 of Set 1 | Santa Cruz do Sul\n",
      "Processing Record 605 of Set 1 | Fort Nelson\n",
      "Processing Record 606 of Set 1 | Kidal\n",
      "Processing Record 607 of Set 1 | Vila Franca do Campo\n",
      "Processing Record 608 of Set 1 | Nabire\n",
      "Processing Record 609 of Set 1 | Udachny\n",
      "Processing Record 610 of Set 1 | Valle de Allende\n",
      "Processing Record 611 of Set 1 | Alice Springs\n",
      "Processing Record 612 of Set 1 | Mossamedes\n",
      "Processing Record 613 of Set 1 | Esil\n",
      "Processing Record 614 of Set 1 | Strezhevoy\n",
      "City not found. Skipping...\n",
      "-----------------------------\n",
      "Data Retrieval Complete\n",
      "-----------------------------\n"
     ]
    }
   ],
   "source": [
    "# URL for GET requests to retrieve vehicle data\n",
    "query_url = \"http://api.openweathermap.org/data/2.5/weather?appid=\" + weather_api_key\n",
    "\n",
    "cit = []\n",
    "lat = []\n",
    "lng = []\n",
    "temp = []\n",
    "hum = []\n",
    "cloud = []\n",
    "wind = []\n",
    "country = []\n",
    "date = []\n",
    "\n",
    "print(\"Beginning Data Retrieval\")\n",
    "print(\"-----------------------------\")\n",
    "\n",
    "n = 0\n",
    "# Loop through a list of cities and perform a request for data on each\n",
    "for city in cities:\n",
    "    try:\n",
    "        n = n + 1\n",
    "        response = requests.get(query_url + '&q=' + city).json()\n",
    "        #print(response)\n",
    "        print(\"Processing Record \" + str(n) + \" of Set 1 | \" + response['name'])\n",
    "        cit.append(response['name'])\n",
    "        lat.append(response['coord']['lat'])\n",
    "        lng.append(response['coord']['lon'])\n",
    "        temp.append(response['main']['temp_max'])\n",
    "        hum.append(response['main']['humidity'])\n",
    "        cloud.append(response['clouds']['all'])\n",
    "        wind.append(response['wind']['speed'])\n",
    "        country.append(response['sys']['country'])\n",
    "        date.append(response['dt'])\n",
    "        \n",
    "    except KeyError:\n",
    "        print(\"City not found. Skipping...\")\n",
    "\n",
    "#print(f\"The latitude information received is: {lat}\")\n",
    "#print(f\"The temperature information received is: {temp}\")\n",
    "print(\"-----------------------------\")\n",
    "print(\"Data Retrieval Complete\")\n",
    "print(\"-----------------------------\")\n"
   ]
  },
  {
   "cell_type": "markdown",
   "metadata": {},
   "source": [
    "### Convert Raw Data to DataFrame\n",
    "* Export the city data into a .csv.\n",
    "* Display the DataFrame"
   ]
  },
  {
   "cell_type": "code",
   "execution_count": 7,
   "metadata": {
    "collapsed": true
   },
   "outputs": [],
   "source": [
    "# Combine list into dataframe\n",
    "data = pd.DataFrame({'City':cit,'Lat':lat,'Lng':lng,'Max Temp':temp,'Humidity':hum,'Cloudiness':cloud,'Wind Speed':wind,'Country':country,'Date':date})\n",
    "data.head(5)\n",
    "\n",
    "outputpath = 'a.csv'\n",
    "data.to_csv (outputpath,sep= ',' ,index= False ,header= True)"
   ]
  },
  {
   "cell_type": "code",
   "execution_count": 8,
   "metadata": {},
   "outputs": [
    {
     "data": {
      "text/html": [
       "<div>\n",
       "<style scoped>\n",
       "    .dataframe tbody tr th:only-of-type {\n",
       "        vertical-align: middle;\n",
       "    }\n",
       "\n",
       "    .dataframe tbody tr th {\n",
       "        vertical-align: top;\n",
       "    }\n",
       "\n",
       "    .dataframe thead th {\n",
       "        text-align: right;\n",
       "    }\n",
       "</style>\n",
       "<table border=\"1\" class=\"dataframe\">\n",
       "  <thead>\n",
       "    <tr style=\"text-align: right;\">\n",
       "      <th></th>\n",
       "      <th>Lat</th>\n",
       "      <th>Lng</th>\n",
       "      <th>Max Temp</th>\n",
       "      <th>Humidity</th>\n",
       "      <th>Cloudiness</th>\n",
       "      <th>Wind Speed</th>\n",
       "      <th>Date</th>\n",
       "    </tr>\n",
       "  </thead>\n",
       "  <tbody>\n",
       "    <tr>\n",
       "      <th>count</th>\n",
       "      <td>573.000000</td>\n",
       "      <td>573.000000</td>\n",
       "      <td>573.000000</td>\n",
       "      <td>573.000000</td>\n",
       "      <td>573.000000</td>\n",
       "      <td>573.000000</td>\n",
       "      <td>5.730000e+02</td>\n",
       "    </tr>\n",
       "    <tr>\n",
       "      <th>mean</th>\n",
       "      <td>22.080538</td>\n",
       "      <td>14.304859</td>\n",
       "      <td>290.906405</td>\n",
       "      <td>67.108202</td>\n",
       "      <td>55.041885</td>\n",
       "      <td>4.152426</td>\n",
       "      <td>1.665411e+09</td>\n",
       "    </tr>\n",
       "    <tr>\n",
       "      <th>std</th>\n",
       "      <td>33.108713</td>\n",
       "      <td>88.573192</td>\n",
       "      <td>10.558085</td>\n",
       "      <td>22.378783</td>\n",
       "      <td>40.463940</td>\n",
       "      <td>2.871322</td>\n",
       "      <td>1.654555e+02</td>\n",
       "    </tr>\n",
       "    <tr>\n",
       "      <th>min</th>\n",
       "      <td>-54.800000</td>\n",
       "      <td>-175.200000</td>\n",
       "      <td>256.170000</td>\n",
       "      <td>1.000000</td>\n",
       "      <td>0.000000</td>\n",
       "      <td>0.000000</td>\n",
       "      <td>1.665410e+09</td>\n",
       "    </tr>\n",
       "    <tr>\n",
       "      <th>25%</th>\n",
       "      <td>-5.226900</td>\n",
       "      <td>-63.057800</td>\n",
       "      <td>283.650000</td>\n",
       "      <td>56.000000</td>\n",
       "      <td>10.000000</td>\n",
       "      <td>2.060000</td>\n",
       "      <td>1.665410e+09</td>\n",
       "    </tr>\n",
       "    <tr>\n",
       "      <th>50%</th>\n",
       "      <td>27.117200</td>\n",
       "      <td>20.259700</td>\n",
       "      <td>291.960000</td>\n",
       "      <td>72.000000</td>\n",
       "      <td>62.000000</td>\n",
       "      <td>3.580000</td>\n",
       "      <td>1.665411e+09</td>\n",
       "    </tr>\n",
       "    <tr>\n",
       "      <th>75%</th>\n",
       "      <td>50.233400</td>\n",
       "      <td>80.264400</td>\n",
       "      <td>299.180000</td>\n",
       "      <td>84.000000</td>\n",
       "      <td>99.000000</td>\n",
       "      <td>5.590000</td>\n",
       "      <td>1.665411e+09</td>\n",
       "    </tr>\n",
       "    <tr>\n",
       "      <th>max</th>\n",
       "      <td>78.218600</td>\n",
       "      <td>178.416700</td>\n",
       "      <td>313.230000</td>\n",
       "      <td>100.000000</td>\n",
       "      <td>100.000000</td>\n",
       "      <td>19.120000</td>\n",
       "      <td>1.665411e+09</td>\n",
       "    </tr>\n",
       "  </tbody>\n",
       "</table>\n",
       "</div>"
      ],
      "text/plain": [
       "              Lat         Lng    Max Temp    Humidity  Cloudiness  Wind Speed  \\\n",
       "count  573.000000  573.000000  573.000000  573.000000  573.000000  573.000000   \n",
       "mean    22.080538   14.304859  290.906405   67.108202   55.041885    4.152426   \n",
       "std     33.108713   88.573192   10.558085   22.378783   40.463940    2.871322   \n",
       "min    -54.800000 -175.200000  256.170000    1.000000    0.000000    0.000000   \n",
       "25%     -5.226900  -63.057800  283.650000   56.000000   10.000000    2.060000   \n",
       "50%     27.117200   20.259700  291.960000   72.000000   62.000000    3.580000   \n",
       "75%     50.233400   80.264400  299.180000   84.000000   99.000000    5.590000   \n",
       "max     78.218600  178.416700  313.230000  100.000000  100.000000   19.120000   \n",
       "\n",
       "               Date  \n",
       "count  5.730000e+02  \n",
       "mean   1.665411e+09  \n",
       "std    1.654555e+02  \n",
       "min    1.665410e+09  \n",
       "25%    1.665410e+09  \n",
       "50%    1.665411e+09  \n",
       "75%    1.665411e+09  \n",
       "max    1.665411e+09  "
      ]
     },
     "execution_count": 8,
     "metadata": {},
     "output_type": "execute_result"
    }
   ],
   "source": [
    "# show the dataframe summary\n",
    "data.describe()"
   ]
  },
  {
   "cell_type": "markdown",
   "metadata": {},
   "source": [
    "## Inspect the data and remove the cities where the humidity > 100%.\n",
    "----\n",
    "Skip this step if there are no cities that have humidity > 100%. "
   ]
  },
  {
   "cell_type": "code",
   "execution_count": 9,
   "metadata": {},
   "outputs": [
    {
     "data": {
      "text/html": [
       "<div>\n",
       "<style scoped>\n",
       "    .dataframe tbody tr th:only-of-type {\n",
       "        vertical-align: middle;\n",
       "    }\n",
       "\n",
       "    .dataframe tbody tr th {\n",
       "        vertical-align: top;\n",
       "    }\n",
       "\n",
       "    .dataframe thead th {\n",
       "        text-align: right;\n",
       "    }\n",
       "</style>\n",
       "<table border=\"1\" class=\"dataframe\">\n",
       "  <thead>\n",
       "    <tr style=\"text-align: right;\">\n",
       "      <th></th>\n",
       "      <th>Lat</th>\n",
       "      <th>Lng</th>\n",
       "      <th>Max Temp</th>\n",
       "      <th>Humidity</th>\n",
       "      <th>Cloudiness</th>\n",
       "      <th>Wind Speed</th>\n",
       "      <th>Date</th>\n",
       "    </tr>\n",
       "  </thead>\n",
       "  <tbody>\n",
       "    <tr>\n",
       "      <th>count</th>\n",
       "      <td>573.000000</td>\n",
       "      <td>573.000000</td>\n",
       "      <td>573.000000</td>\n",
       "      <td>573.000000</td>\n",
       "      <td>573.000000</td>\n",
       "      <td>573.000000</td>\n",
       "      <td>5.730000e+02</td>\n",
       "    </tr>\n",
       "    <tr>\n",
       "      <th>mean</th>\n",
       "      <td>22.080538</td>\n",
       "      <td>14.304859</td>\n",
       "      <td>290.906405</td>\n",
       "      <td>67.108202</td>\n",
       "      <td>55.041885</td>\n",
       "      <td>4.152426</td>\n",
       "      <td>1.665411e+09</td>\n",
       "    </tr>\n",
       "    <tr>\n",
       "      <th>std</th>\n",
       "      <td>33.108713</td>\n",
       "      <td>88.573192</td>\n",
       "      <td>10.558085</td>\n",
       "      <td>22.378783</td>\n",
       "      <td>40.463940</td>\n",
       "      <td>2.871322</td>\n",
       "      <td>1.654555e+02</td>\n",
       "    </tr>\n",
       "    <tr>\n",
       "      <th>min</th>\n",
       "      <td>-54.800000</td>\n",
       "      <td>-175.200000</td>\n",
       "      <td>256.170000</td>\n",
       "      <td>1.000000</td>\n",
       "      <td>0.000000</td>\n",
       "      <td>0.000000</td>\n",
       "      <td>1.665410e+09</td>\n",
       "    </tr>\n",
       "    <tr>\n",
       "      <th>25%</th>\n",
       "      <td>-5.226900</td>\n",
       "      <td>-63.057800</td>\n",
       "      <td>283.650000</td>\n",
       "      <td>56.000000</td>\n",
       "      <td>10.000000</td>\n",
       "      <td>2.060000</td>\n",
       "      <td>1.665410e+09</td>\n",
       "    </tr>\n",
       "    <tr>\n",
       "      <th>50%</th>\n",
       "      <td>27.117200</td>\n",
       "      <td>20.259700</td>\n",
       "      <td>291.960000</td>\n",
       "      <td>72.000000</td>\n",
       "      <td>62.000000</td>\n",
       "      <td>3.580000</td>\n",
       "      <td>1.665411e+09</td>\n",
       "    </tr>\n",
       "    <tr>\n",
       "      <th>75%</th>\n",
       "      <td>50.233400</td>\n",
       "      <td>80.264400</td>\n",
       "      <td>299.180000</td>\n",
       "      <td>84.000000</td>\n",
       "      <td>99.000000</td>\n",
       "      <td>5.590000</td>\n",
       "      <td>1.665411e+09</td>\n",
       "    </tr>\n",
       "    <tr>\n",
       "      <th>max</th>\n",
       "      <td>78.218600</td>\n",
       "      <td>178.416700</td>\n",
       "      <td>313.230000</td>\n",
       "      <td>100.000000</td>\n",
       "      <td>100.000000</td>\n",
       "      <td>19.120000</td>\n",
       "      <td>1.665411e+09</td>\n",
       "    </tr>\n",
       "  </tbody>\n",
       "</table>\n",
       "</div>"
      ],
      "text/plain": [
       "              Lat         Lng    Max Temp    Humidity  Cloudiness  Wind Speed  \\\n",
       "count  573.000000  573.000000  573.000000  573.000000  573.000000  573.000000   \n",
       "mean    22.080538   14.304859  290.906405   67.108202   55.041885    4.152426   \n",
       "std     33.108713   88.573192   10.558085   22.378783   40.463940    2.871322   \n",
       "min    -54.800000 -175.200000  256.170000    1.000000    0.000000    0.000000   \n",
       "25%     -5.226900  -63.057800  283.650000   56.000000   10.000000    2.060000   \n",
       "50%     27.117200   20.259700  291.960000   72.000000   62.000000    3.580000   \n",
       "75%     50.233400   80.264400  299.180000   84.000000   99.000000    5.590000   \n",
       "max     78.218600  178.416700  313.230000  100.000000  100.000000   19.120000   \n",
       "\n",
       "               Date  \n",
       "count  5.730000e+02  \n",
       "mean   1.665411e+09  \n",
       "std    1.654555e+02  \n",
       "min    1.665410e+09  \n",
       "25%    1.665410e+09  \n",
       "50%    1.665411e+09  \n",
       "75%    1.665411e+09  \n",
       "max    1.665411e+09  "
      ]
     },
     "execution_count": 9,
     "metadata": {},
     "output_type": "execute_result"
    }
   ],
   "source": [
    "# skip the humidity > 100%\n",
    "data = data.drop(data[data.Humidity > 100].index)\n",
    "data.describe()"
   ]
  },
  {
   "cell_type": "code",
   "execution_count": 10,
   "metadata": {},
   "outputs": [
    {
     "name": "stdout",
     "output_type": "stream",
     "text": [
      "Int64Index([], dtype='int64')\n"
     ]
    }
   ],
   "source": [
    "#  Get the indices of cities that have humidity over 100%.\n",
    "print(data[data.Humidity > 100].index)"
   ]
  },
  {
   "cell_type": "code",
   "execution_count": 11,
   "metadata": {},
   "outputs": [
    {
     "data": {
      "text/html": [
       "<div>\n",
       "<style scoped>\n",
       "    .dataframe tbody tr th:only-of-type {\n",
       "        vertical-align: middle;\n",
       "    }\n",
       "\n",
       "    .dataframe tbody tr th {\n",
       "        vertical-align: top;\n",
       "    }\n",
       "\n",
       "    .dataframe thead th {\n",
       "        text-align: right;\n",
       "    }\n",
       "</style>\n",
       "<table border=\"1\" class=\"dataframe\">\n",
       "  <thead>\n",
       "    <tr style=\"text-align: right;\">\n",
       "      <th></th>\n",
       "      <th>City</th>\n",
       "      <th>Lat</th>\n",
       "      <th>Lng</th>\n",
       "      <th>Max Temp</th>\n",
       "      <th>Humidity</th>\n",
       "      <th>Cloudiness</th>\n",
       "      <th>Wind Speed</th>\n",
       "      <th>Country</th>\n",
       "      <th>Date</th>\n",
       "    </tr>\n",
       "  </thead>\n",
       "  <tbody>\n",
       "    <tr>\n",
       "      <th>0</th>\n",
       "      <td>Along</td>\n",
       "      <td>28.1667</td>\n",
       "      <td>94.7667</td>\n",
       "      <td>294.64</td>\n",
       "      <td>99</td>\n",
       "      <td>100</td>\n",
       "      <td>0.17</td>\n",
       "      <td>IN</td>\n",
       "      <td>1665410412</td>\n",
       "    </tr>\n",
       "    <tr>\n",
       "      <th>1</th>\n",
       "      <td>Bandarbeyla</td>\n",
       "      <td>9.4942</td>\n",
       "      <td>50.8122</td>\n",
       "      <td>299.67</td>\n",
       "      <td>79</td>\n",
       "      <td>64</td>\n",
       "      <td>6.12</td>\n",
       "      <td>SO</td>\n",
       "      <td>1665410293</td>\n",
       "    </tr>\n",
       "    <tr>\n",
       "      <th>2</th>\n",
       "      <td>Shaunavon</td>\n",
       "      <td>49.6501</td>\n",
       "      <td>-108.4181</td>\n",
       "      <td>282.92</td>\n",
       "      <td>51</td>\n",
       "      <td>7</td>\n",
       "      <td>4.61</td>\n",
       "      <td>CA</td>\n",
       "      <td>1665410413</td>\n",
       "    </tr>\n",
       "    <tr>\n",
       "      <th>3</th>\n",
       "      <td>Upernavik</td>\n",
       "      <td>72.7868</td>\n",
       "      <td>-56.1549</td>\n",
       "      <td>262.45</td>\n",
       "      <td>70</td>\n",
       "      <td>15</td>\n",
       "      <td>2.22</td>\n",
       "      <td>GL</td>\n",
       "      <td>1665410256</td>\n",
       "    </tr>\n",
       "    <tr>\n",
       "      <th>4</th>\n",
       "      <td>George Town</td>\n",
       "      <td>5.4112</td>\n",
       "      <td>100.3354</td>\n",
       "      <td>302.11</td>\n",
       "      <td>76</td>\n",
       "      <td>20</td>\n",
       "      <td>0.00</td>\n",
       "      <td>MY</td>\n",
       "      <td>1665410414</td>\n",
       "    </tr>\n",
       "  </tbody>\n",
       "</table>\n",
       "</div>"
      ],
      "text/plain": [
       "          City      Lat       Lng  Max Temp  Humidity  Cloudiness  Wind Speed  \\\n",
       "0        Along  28.1667   94.7667    294.64        99         100        0.17   \n",
       "1  Bandarbeyla   9.4942   50.8122    299.67        79          64        6.12   \n",
       "2    Shaunavon  49.6501 -108.4181    282.92        51           7        4.61   \n",
       "3    Upernavik  72.7868  -56.1549    262.45        70          15        2.22   \n",
       "4  George Town   5.4112  100.3354    302.11        76          20        0.00   \n",
       "\n",
       "  Country        Date  \n",
       "0      IN  1665410412  \n",
       "1      SO  1665410293  \n",
       "2      CA  1665410413  \n",
       "3      GL  1665410256  \n",
       "4      MY  1665410414  "
      ]
     },
     "execution_count": 11,
     "metadata": {},
     "output_type": "execute_result"
    }
   ],
   "source": [
    "# Make a new DataFrame equal to the city data to drop all humidity outliers by index.\n",
    "# Passing \"inplace=False\" will make a copy of the city_data DataFrame, which we call \"clean_city_data\".\n",
    "clean_city_data = data.drop(data[data.Humidity > 100].index, inplace=False)\n",
    "clean_city_data.head(5)"
   ]
  },
  {
   "cell_type": "code",
   "execution_count": null,
   "metadata": {
    "collapsed": true
   },
   "outputs": [],
   "source": [
    "\n"
   ]
  },
  {
   "cell_type": "markdown",
   "metadata": {},
   "source": [
    "## Plotting the Data\n",
    "* Use proper labeling of the plots using plot titles (including date of analysis) and axes labels.\n",
    "* Save the plotted figures as .pngs."
   ]
  },
  {
   "cell_type": "markdown",
   "metadata": {},
   "source": [
    "## Latitude vs. Temperature Plot"
   ]
  },
  {
   "cell_type": "code",
   "execution_count": 12,
   "metadata": {
    "scrolled": true
   },
   "outputs": [
    {
     "data": {
      "image/png": "[encoded data removed]",
      "text/plain": [
       "<matplotlib.figure.Figure at 0x20cc187d550>"
      ]
     },
     "metadata": {},
     "output_type": "display_data"
    }
   ],
   "source": [
    "# show the scatter plot\n",
    "#clean_city_data.plot(x='Lat', y='Max Temp', kind='bar')\n",
    "plt.scatter(clean_city_data['Lat'], clean_city_data['Max Temp'], edgecolors='black')\n",
    "plt.xlabel(\"Latitude\")\n",
    "plt.ylabel(\"Max Temperature (F)\")\n",
    "plt.title(\"City Latitude vs. Max Temperature (10/10/22)\")\n",
    "plt.grid()\n",
    "plt.show()"
   ]
  },
  {
   "cell_type": "markdown",
   "metadata": {},
   "source": [
    "## Latitude vs. Humidity Plot"
   ]
  },
  {
   "cell_type": "code",
   "execution_count": 13,
   "metadata": {},
   "outputs": [
    {
     "data": {
      "image/png": "[encoded data removed]",
      "text/plain": [
       "<matplotlib.figure.Figure at 0x20cc187fa90>"
      ]
     },
     "metadata": {},
     "output_type": "display_data"
    }
   ],
   "source": [
    "# show the scatter plot\n",
    "plt.scatter(clean_city_data['Lat'], clean_city_data['Humidity'], edgecolors='black')\n",
    "plt.xlabel(\"Latitude\")\n",
    "plt.ylabel(\"Humidity (%)\")\n",
    "plt.title(\"City Latitude vs. Humidity (10/10/22)\")\n",
    "plt.grid()\n",
    "plt.show()"
   ]
  },
  {
   "cell_type": "markdown",
   "metadata": {},
   "source": [
    "## Latitude vs. Cloudiness Plot"
   ]
  },
  {
   "cell_type": "code",
   "execution_count": 14,
   "metadata": {},
   "outputs": [
    {
     "data": {
      "image/png": "[encoded data removed]",
      "text/plain": [
       "<matplotlib.figure.Figure at 0x20cc17d1d30>"
      ]
     },
     "metadata": {},
     "output_type": "display_data"
    }
   ],
   "source": [
    "# show the scatter plot\n",
    "plt.scatter(clean_city_data['Lat'], clean_city_data['Cloudiness'], edgecolors='black')\n",
    "plt.xlabel(\"Latitude\")\n",
    "plt.ylabel(\"Cloudiness (%)\")\n",
    "plt.title(\"City Latitude vs. Cloudiness (10/10/22)\")\n",
    "plt.grid()\n",
    "plt.show()"
   ]
  },
  {
   "cell_type": "markdown",
   "metadata": {},
   "source": [
    "## Latitude vs. Wind Speed Plot"
   ]
  },
  {
   "cell_type": "code",
   "execution_count": 15,
   "metadata": {},
   "outputs": [
    {
     "data": {
      "image/png": "[encoded data removed]",
      "text/plain": [
       "<matplotlib.figure.Figure at 0x20cc163d240>"
      ]
     },
     "metadata": {},
     "output_type": "display_data"
    }
   ],
   "source": [
    "# show the scatter plot\n",
    "plt.scatter(clean_city_data['Lat'], clean_city_data['Wind Speed'], edgecolors='black')\n",
    "plt.xlabel(\"Latitude\")\n",
    "plt.ylabel(\"Wind Speed (mph)\")\n",
    "plt.title(\"City Latitude vs. Wind Speed (10/10/22)\")\n",
    "plt.grid()\n",
    "plt.show()"
   ]
  },
  {
   "cell_type": "markdown",
   "metadata": {},
   "source": [
    "## Linear Regression"
   ]
  },
  {
   "cell_type": "code",
   "execution_count": 16,
   "metadata": {
    "collapsed": true
   },
   "outputs": [],
   "source": [
    "# separate the dataset into Northern and Southern\n",
    "Northern_city_data = clean_city_data[clean_city_data['Lat'] >= 0]\n",
    "Southern_city_data = clean_city_data[clean_city_data['Lat'] < 0]"
   ]
  },
  {
   "cell_type": "markdown",
   "metadata": {},
   "source": [
    "####  Northern Hemisphere - Max Temp vs. Latitude Linear Regression"
   ]
  },
  {
   "cell_type": "code",
   "execution_count": 17,
   "metadata": {},
   "outputs": [
    {
     "name": "stdout",
     "output_type": "stream",
     "text": [
      "The r-value is: -0.8643701344533194\n"
     ]
    },
    {
     "name": "stderr",
     "output_type": "stream",
     "text": [
      "C:\\ProgramData\\Anaconda3\\lib\\site-packages\\matplotlib\\cbook\\__init__.py:2020: FutureWarning: Support for multi-dimensional indexing (e.g. `obj[:, None]`) is deprecated and will be removed in a future version.  Convert to a numpy array before indexing instead.\n",
      "  x[:, None]\n",
      "C:\\ProgramData\\Anaconda3\\lib\\site-packages\\matplotlib\\axes\\_base.py:249: FutureWarning: Support for multi-dimensional indexing (e.g. `obj[:, None]`) is deprecated and will be removed in a future version.  Convert to a numpy array before indexing instead.\n",
      "  x = x[:, np.newaxis]\n",
      "C:\\ProgramData\\Anaconda3\\lib\\site-packages\\matplotlib\\axes\\_base.py:251: FutureWarning: Support for multi-dimensional indexing (e.g. `obj[:, None]`) is deprecated and will be removed in a future version.  Convert to a numpy array before indexing instead.\n",
      "  y = y[:, np.newaxis]\n"
     ]
    },
    {
     "data": {
      "image/png": "[encoded data removed]",
      "text/plain": [
       "<matplotlib.figure.Figure at 0x20cc16383c8>"
      ]
     },
     "metadata": {},
     "output_type": "display_data"
    }
   ],
   "source": [
    "# show the scatter plot and linear regression\n",
    "slope, intercept, r_value, p_value, std_err = linregress(Northern_city_data['Lat'], Northern_city_data['Max Temp'])\n",
    "print(\"The r-value is: \" + str(r_value))\n",
    "\n",
    "plt.scatter(Northern_city_data['Lat'], Northern_city_data['Max Temp'], color=\"b\")\n",
    "plt.xlabel(\"Latitude\")\n",
    "plt.ylabel(\"Max Temp\")\n",
    "plt.plot(Northern_city_data['Lat'], intercept + slope * Northern_city_data['Lat'], color=\"r\")\n",
    "plt.show()"
   ]
  },
  {
   "cell_type": "markdown",
   "metadata": {},
   "source": [
    "####  Southern Hemisphere - Max Temp vs. Latitude Linear Regression"
   ]
  },
  {
   "cell_type": "code",
   "execution_count": 18,
   "metadata": {},
   "outputs": [
    {
     "name": "stdout",
     "output_type": "stream",
     "text": [
      "The r-value is: 0.6849075799835019\n"
     ]
    },
    {
     "name": "stderr",
     "output_type": "stream",
     "text": [
      "C:\\ProgramData\\Anaconda3\\lib\\site-packages\\matplotlib\\cbook\\__init__.py:2020: FutureWarning: Support for multi-dimensional indexing (e.g. `obj[:, None]`) is deprecated and will be removed in a future version.  Convert to a numpy array before indexing instead.\n",
      "  x[:, None]\n",
      "C:\\ProgramData\\Anaconda3\\lib\\site-packages\\matplotlib\\axes\\_base.py:249: FutureWarning: Support for multi-dimensional indexing (e.g. `obj[:, None]`) is deprecated and will be removed in a future version.  Convert to a numpy array before indexing instead.\n",
      "  x = x[:, np.newaxis]\n",
      "C:\\ProgramData\\Anaconda3\\lib\\site-packages\\matplotlib\\axes\\_base.py:251: FutureWarning: Support for multi-dimensional indexing (e.g. `obj[:, None]`) is deprecated and will be removed in a future version.  Convert to a numpy array before indexing instead.\n",
      "  y = y[:, np.newaxis]\n"
     ]
    },
    {
     "data": {
      "image/png": "[encoded data removed]",
      "text/plain": [
       "<matplotlib.figure.Figure at 0x20cc182a7f0>"
      ]
     },
     "metadata": {},
     "output_type": "display_data"
    }
   ],
   "source": [
    "# show the scatter plot and linear regression\n",
    "slope, intercept, r_value, p_value, std_err = linregress(Southern_city_data['Lat'], Southern_city_data['Max Temp'])\n",
    "print(\"The r-value is: \" + str(r_value))\n",
    "\n",
    "plt.scatter(Southern_city_data['Lat'], Southern_city_data['Max Temp'], color=\"b\")\n",
    "plt.xlabel(\"Latitude\")\n",
    "plt.ylabel(\"Max Temp\")\n",
    "plt.plot(Southern_city_data['Lat'], intercept + slope * Southern_city_data['Lat'], color=\"r\")\n",
    "plt.show()"
   ]
  },
  {
   "cell_type": "markdown",
   "metadata": {},
   "source": [
    "####  Northern Hemisphere - Humidity (%) vs. Latitude Linear Regression"
   ]
  },
  {
   "cell_type": "code",
   "execution_count": 19,
   "metadata": {},
   "outputs": [
    {
     "name": "stdout",
     "output_type": "stream",
     "text": [
      "The r-value is: 0.19688883622321895\n"
     ]
    },
    {
     "name": "stderr",
     "output_type": "stream",
     "text": [
      "C:\\ProgramData\\Anaconda3\\lib\\site-packages\\matplotlib\\cbook\\__init__.py:2020: FutureWarning: Support for multi-dimensional indexing (e.g. `obj[:, None]`) is deprecated and will be removed in a future version.  Convert to a numpy array before indexing instead.\n",
      "  x[:, None]\n",
      "C:\\ProgramData\\Anaconda3\\lib\\site-packages\\matplotlib\\axes\\_base.py:249: FutureWarning: Support for multi-dimensional indexing (e.g. `obj[:, None]`) is deprecated and will be removed in a future version.  Convert to a numpy array before indexing instead.\n",
      "  x = x[:, np.newaxis]\n",
      "C:\\ProgramData\\Anaconda3\\lib\\site-packages\\matplotlib\\axes\\_base.py:251: FutureWarning: Support for multi-dimensional indexing (e.g. `obj[:, None]`) is deprecated and will be removed in a future version.  Convert to a numpy array before indexing instead.\n",
      "  y = y[:, np.newaxis]\n"
     ]
    },
    {
     "data": {
      "image/png": "[encoded data removed]",
      "text/plain": [
       "<matplotlib.figure.Figure at 0x20cc1a5b160>"
      ]
     },
     "metadata": {},
     "output_type": "display_data"
    }
   ],
   "source": [
    "# show the scatter plot and linear regression\n",
    "slope, intercept, r_value, p_value, std_err = linregress(Northern_city_data['Lat'], Northern_city_data['Humidity'])\n",
    "print(\"The r-value is: \" + str(r_value))\n",
    "\n",
    "plt.scatter(Northern_city_data['Lat'], Northern_city_data['Humidity'], color=\"b\")\n",
    "plt.xlabel(\"Latitude\")\n",
    "plt.ylabel(\"Humidity\")\n",
    "plt.plot(Northern_city_data['Lat'], intercept + slope * Northern_city_data['Lat'], color=\"r\")\n",
    "plt.show()"
   ]
  },
  {
   "cell_type": "markdown",
   "metadata": {},
   "source": [
    "####  Southern Hemisphere - Humidity (%) vs. Latitude Linear Regression"
   ]
  },
  {
   "cell_type": "code",
   "execution_count": 20,
   "metadata": {},
   "outputs": [
    {
     "name": "stdout",
     "output_type": "stream",
     "text": [
      "The r-value is: 0.07649679247747801\n"
     ]
    },
    {
     "name": "stderr",
     "output_type": "stream",
     "text": [
      "C:\\ProgramData\\Anaconda3\\lib\\site-packages\\matplotlib\\cbook\\__init__.py:2020: FutureWarning: Support for multi-dimensional indexing (e.g. `obj[:, None]`) is deprecated and will be removed in a future version.  Convert to a numpy array before indexing instead.\n",
      "  x[:, None]\n",
      "C:\\ProgramData\\Anaconda3\\lib\\site-packages\\matplotlib\\axes\\_base.py:249: FutureWarning: Support for multi-dimensional indexing (e.g. `obj[:, None]`) is deprecated and will be removed in a future version.  Convert to a numpy array before indexing instead.\n",
      "  x = x[:, np.newaxis]\n",
      "C:\\ProgramData\\Anaconda3\\lib\\site-packages\\matplotlib\\axes\\_base.py:251: FutureWarning: Support for multi-dimensional indexing (e.g. `obj[:, None]`) is deprecated and will be removed in a future version.  Convert to a numpy array before indexing instead.\n",
      "  y = y[:, np.newaxis]\n"
     ]
    },
    {
     "data": {
      "image/png": "[encoded data removed]",
      "text/plain": [
       "<matplotlib.figure.Figure at 0x20cc1aed9b0>"
      ]
     },
     "metadata": {},
     "output_type": "display_data"
    }
   ],
   "source": [
    "# show the scatter plot and linear regression\n",
    "slope, intercept, r_value, p_value, std_err = linregress(Southern_city_data['Lat'], Southern_city_data['Humidity'])\n",
    "print(\"The r-value is: \" + str(r_value))\n",
    "\n",
    "plt.scatter(Southern_city_data['Lat'], Southern_city_data['Humidity'], color=\"b\")\n",
    "plt.xlabel(\"Latitude\")\n",
    "plt.ylabel(\"Humidity\")\n",
    "plt.plot(Southern_city_data['Lat'], intercept + slope * Southern_city_data['Lat'], color=\"r\")\n",
    "plt.show()"
   ]
  },
  {
   "cell_type": "markdown",
   "metadata": {},
   "source": [
    "####  Northern Hemisphere - Cloudiness (%) vs. Latitude Linear Regression"
   ]
  },
  {
   "cell_type": "code",
   "execution_count": 21,
   "metadata": {},
   "outputs": [
    {
     "name": "stdout",
     "output_type": "stream",
     "text": [
      "The r-value is: 0.14955930485544675\n"
     ]
    },
    {
     "name": "stderr",
     "output_type": "stream",
     "text": [
      "C:\\ProgramData\\Anaconda3\\lib\\site-packages\\matplotlib\\cbook\\__init__.py:2020: FutureWarning: Support for multi-dimensional indexing (e.g. `obj[:, None]`) is deprecated and will be removed in a future version.  Convert to a numpy array before indexing instead.\n",
      "  x[:, None]\n",
      "C:\\ProgramData\\Anaconda3\\lib\\site-packages\\matplotlib\\axes\\_base.py:249: FutureWarning: Support for multi-dimensional indexing (e.g. `obj[:, None]`) is deprecated and will be removed in a future version.  Convert to a numpy array before indexing instead.\n",
      "  x = x[:, np.newaxis]\n",
      "C:\\ProgramData\\Anaconda3\\lib\\site-packages\\matplotlib\\axes\\_base.py:251: FutureWarning: Support for multi-dimensional indexing (e.g. `obj[:, None]`) is deprecated and will be removed in a future version.  Convert to a numpy array before indexing instead.\n",
      "  y = y[:, np.newaxis]\n"
     ]
    },
    {
     "data": {
      "image/png": "[encoded data removed]",
      "text/plain": [
       "<matplotlib.figure.Figure at 0x20cc1b21128>"
      ]
     },
     "metadata": {},
     "output_type": "display_data"
    }
   ],
   "source": [
    "# show the scatter plot and linear regression\n",
    "slope, intercept, r_value, p_value, std_err = linregress(Northern_city_data['Lat'], Northern_city_data['Cloudiness'])\n",
    "print(\"The r-value is: \" + str(r_value))\n",
    "\n",
    "plt.scatter(Northern_city_data['Lat'], Northern_city_data['Cloudiness'], color=\"b\")\n",
    "plt.xlabel(\"Latitude\")\n",
    "plt.ylabel(\"Cloudiness\")\n",
    "plt.plot(Northern_city_data['Lat'], intercept + slope * Northern_city_data['Lat'], color=\"r\")\n",
    "plt.show()"
   ]
  },
  {
   "cell_type": "markdown",
   "metadata": {},
   "source": [
    "####  Southern Hemisphere - Cloudiness (%) vs. Latitude Linear Regression"
   ]
  },
  {
   "cell_type": "code",
   "execution_count": 22,
   "metadata": {},
   "outputs": [
    {
     "name": "stdout",
     "output_type": "stream",
     "text": [
      "The r-value is: 0.01628665435446434\n"
     ]
    },
    {
     "name": "stderr",
     "output_type": "stream",
     "text": [
      "C:\\ProgramData\\Anaconda3\\lib\\site-packages\\matplotlib\\cbook\\__init__.py:2020: FutureWarning: Support for multi-dimensional indexing (e.g. `obj[:, None]`) is deprecated and will be removed in a future version.  Convert to a numpy array before indexing instead.\n",
      "  x[:, None]\n",
      "C:\\ProgramData\\Anaconda3\\lib\\site-packages\\matplotlib\\axes\\_base.py:249: FutureWarning: Support for multi-dimensional indexing (e.g. `obj[:, None]`) is deprecated and will be removed in a future version.  Convert to a numpy array before indexing instead.\n",
      "  x = x[:, np.newaxis]\n",
      "C:\\ProgramData\\Anaconda3\\lib\\site-packages\\matplotlib\\axes\\_base.py:251: FutureWarning: Support for multi-dimensional indexing (e.g. `obj[:, None]`) is deprecated and will be removed in a future version.  Convert to a numpy array before indexing instead.\n",
      "  y = y[:, np.newaxis]\n"
     ]
    },
    {
     "data": {
      "image/png": "[encoded data removed]",
      "text/plain": [
       "<matplotlib.figure.Figure at 0x20cc1ba3a90>"
      ]
     },
     "metadata": {},
     "output_type": "display_data"
    }
   ],
   "source": [
    "# show the scatter plot and linear regression\n",
    "slope, intercept, r_value, p_value, std_err = linregress(Southern_city_data['Lat'], Southern_city_data['Cloudiness'])\n",
    "print(\"The r-value is: \" + str(r_value))\n",
    "\n",
    "plt.scatter(Southern_city_data['Lat'], Southern_city_data['Cloudiness'], color=\"b\")\n",
    "plt.xlabel(\"Latitude\")\n",
    "plt.ylabel(\"Cloudiness\")\n",
    "plt.plot(Southern_city_data['Lat'], intercept + slope * Southern_city_data['Lat'], color=\"r\")\n",
    "plt.show()"
   ]
  },
  {
   "cell_type": "markdown",
   "metadata": {},
   "source": [
    "####  Northern Hemisphere - Wind Speed (mph) vs. Latitude Linear Regression"
   ]
  },
  {
   "cell_type": "code",
   "execution_count": 23,
   "metadata": {},
   "outputs": [
    {
     "name": "stdout",
     "output_type": "stream",
     "text": [
      "The r-value is: 0.2064452932719823\n"
     ]
    },
    {
     "name": "stderr",
     "output_type": "stream",
     "text": [
      "C:\\ProgramData\\Anaconda3\\lib\\site-packages\\matplotlib\\cbook\\__init__.py:2020: FutureWarning: Support for multi-dimensional indexing (e.g. `obj[:, None]`) is deprecated and will be removed in a future version.  Convert to a numpy array before indexing instead.\n",
      "  x[:, None]\n",
      "C:\\ProgramData\\Anaconda3\\lib\\site-packages\\matplotlib\\axes\\_base.py:249: FutureWarning: Support for multi-dimensional indexing (e.g. `obj[:, None]`) is deprecated and will be removed in a future version.  Convert to a numpy array before indexing instead.\n",
      "  x = x[:, np.newaxis]\n",
      "C:\\ProgramData\\Anaconda3\\lib\\site-packages\\matplotlib\\axes\\_base.py:251: FutureWarning: Support for multi-dimensional indexing (e.g. `obj[:, None]`) is deprecated and will be removed in a future version.  Convert to a numpy array before indexing instead.\n",
      "  y = y[:, np.newaxis]\n"
     ]
    },
    {
     "data": {
      "image/png": "[encoded data removed]",
      "text/plain": [
       "<matplotlib.figure.Figure at 0x20cc1c08630>"
      ]
     },
     "metadata": {},
     "output_type": "display_data"
    }
   ],
   "source": [
    "# show the scatter plot and linear regression\n",
    "slope, intercept, r_value, p_value, std_err = linregress(Northern_city_data['Lat'], Northern_city_data['Wind Speed'])\n",
    "print(\"The r-value is: \" + str(r_value))\n",
    "\n",
    "plt.scatter(Northern_city_data['Lat'], Northern_city_data['Wind Speed'], color=\"b\")\n",
    "plt.xlabel(\"Latitude\")\n",
    "plt.ylabel(\"Wind Speed\")\n",
    "plt.plot(Northern_city_data['Lat'], intercept + slope * Northern_city_data['Lat'], color=\"r\")\n",
    "plt.show()"
   ]
  },
  {
   "cell_type": "markdown",
   "metadata": {},
   "source": [
    "####  Southern Hemisphere - Wind Speed (mph) vs. Latitude Linear Regression"
   ]
  },
  {
   "cell_type": "code",
   "execution_count": 24,
   "metadata": {},
   "outputs": [
    {
     "name": "stdout",
     "output_type": "stream",
     "text": [
      "The r-value is: -0.32794973114643894\n"
     ]
    },
    {
     "name": "stderr",
     "output_type": "stream",
     "text": [
      "C:\\ProgramData\\Anaconda3\\lib\\site-packages\\matplotlib\\cbook\\__init__.py:2020: FutureWarning: Support for multi-dimensional indexing (e.g. `obj[:, None]`) is deprecated and will be removed in a future version.  Convert to a numpy array before indexing instead.\n",
      "  x[:, None]\n",
      "C:\\ProgramData\\Anaconda3\\lib\\site-packages\\matplotlib\\axes\\_base.py:249: FutureWarning: Support for multi-dimensional indexing (e.g. `obj[:, None]`) is deprecated and will be removed in a future version.  Convert to a numpy array before indexing instead.\n",
      "  x = x[:, np.newaxis]\n",
      "C:\\ProgramData\\Anaconda3\\lib\\site-packages\\matplotlib\\axes\\_base.py:251: FutureWarning: Support for multi-dimensional indexing (e.g. `obj[:, None]`) is deprecated and will be removed in a future version.  Convert to a numpy array before indexing instead.\n",
      "  y = y[:, np.newaxis]\n"
     ]
    },
    {
     "data": {
      "image/png": "[encoded data removed]",
      "text/plain": [
       "<matplotlib.figure.Figure at 0x20cc1c79208>"
      ]
     },
     "metadata": {},
     "output_type": "display_data"
    }
   ],
   "source": [
    "# show the scatter plot and linear regression\n",
    "slope, intercept, r_value, p_value, std_err = linregress(Southern_city_data['Lat'], Southern_city_data['Wind Speed'])\n",
    "print(\"The r-value is: \" + str(r_value))\n",
    "\n",
    "plt.scatter(Southern_city_data['Lat'], Southern_city_data['Wind Speed'], color=\"b\")\n",
    "plt.xlabel(\"Latitude\")\n",
    "plt.ylabel(\"Wind Speed\")\n",
    "plt.plot(Southern_city_data['Lat'], intercept + slope * Southern_city_data['Lat'], color=\"r\")\n",
    "plt.show()"
   ]
  },
  {
   "cell_type": "code",
   "execution_count": null,
   "metadata": {
    "collapsed": true
   },
   "outputs": [],
   "source": []
  }
 ],
 "metadata": {
  "anaconda-cloud": {},
  "kernel_info": {
   "name": "python3"
  },
  "kernelspec": {
   "display_name": "Python 3",
   "language": "python",
   "name": "python3"
  },
  "language_info": {
   "codemirror_mode": {
    "name": "ipython",
    "version": 3
   },
   "file_extension": ".py",
   "mimetype": "text/x-python",
   "name": "python",
   "nbconvert_exporter": "python",
   "pygments_lexer": "ipython3",
   "version": "3.6.3"
  },
  "latex_envs": {
   "LaTeX_envs_menu_present": true,
   "autoclose": false,
   "autocomplete": true,
   "bibliofile": "biblio.bib",
   "cite_by": "apalike",
   "current_citInitial": 1,
   "eqLabelWithNumbers": true,
   "eqNumInitial": 1,
   "hotkeys": {
    "equation": "Ctrl-E",
    "itemize": "Ctrl-I"
   },
   "labels_anchors": false,
   "latex_user_defs": false,
   "report_style_numbering": false,
   "user_envs_cfg": false
  },
  "nteract": {
   "version": "0.12.3"
  }
 },
 "nbformat": 4,
 "nbformat_minor": 2
}
